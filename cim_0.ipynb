{
 "cells": [
  {
   "cell_type": "code",
   "execution_count": 1,
   "metadata": {},
   "outputs": [],
   "source": [
    "import cv2\n",
    "import numpy as np\n",
    "\n",
    "white= np.ones((300,300),dtype=np.uint8)*255\n",
    "\n",
    "white[0:100,200:300]=0\n",
    "white[100:200,100:200]=100\n",
    "white[200:300,0:100]=200\n",
    "\n",
    "\n",
    "cv2.imshow('white',white)\n",
    "\n",
    "cv2.waitKey(0)\n",
    "cv2.destroyAllWindows()"
   ]
  },
  {
   "cell_type": "code",
   "execution_count": 2,
   "metadata": {},
   "outputs": [],
   "source": [
    "import cv2\n",
    "import numpy as np\n",
    "\n",
    "white= np.ones((300,300,3),dtype=np.uint8)*255\n",
    "\n",
    "white[0:100,100:200]=0\n",
    "white[100:200,0:100]=0\n",
    "\n",
    "\n",
    "\n",
    "\n",
    "\n",
    "\n",
    "cv2.imshow('white',white)\n",
    "\n",
    "cv2.waitKey(0)\n",
    "cv2.destroyAllWindows()"
   ]
  },
  {
   "cell_type": "code",
   "execution_count": 3,
   "metadata": {},
   "outputs": [],
   "source": [
    "import cv2\n",
    "import numpy as np\n",
    "\n",
    "white= np.ones((300,300,3),dtype=np.uint8)*255\n",
    "\n",
    "white[:,:,::2]=0\n",
    "\n",
    "\n",
    "\n",
    "\n",
    "\n",
    "\n",
    "cv2.imshow('white',white)\n",
    "\n",
    "cv2.waitKey(0)\n",
    "cv2.destroyAllWindows()"
   ]
  },
  {
   "cell_type": "code",
   "execution_count": 6,
   "metadata": {},
   "outputs": [],
   "source": [
    "import cv2\n",
    "import numpy as np\n",
    "\n",
    "white= np.ones((300,300,3),dtype=np.uint8)*127\n",
    "\n",
    "img=cv2.imread(\"ambedkar.png\")\n",
    "cv2.imshow('img',img)\n",
    "white_b=white+100\n",
    "\n",
    "cv2.imshow('white',white)\n",
    "cv2.imshow('white_b',white)\n",
    "cv2.waitKey(0)\n",
    "cv2.destroyAllWindows()"
   ]
  },
  {
   "cell_type": "code",
   "execution_count": 70,
   "metadata": {},
   "outputs": [],
   "source": [
    "import cv2\n",
    "import numpy as np\n",
    "\n",
    "white = np.ones((300, 300), dtype=np.uint8) *0\n",
    "\n",
    "for i in range(300):\n",
    "    for j in range(300):\n",
    "        if i+j>300 and i<j:\n",
    "            white[i,j]=200 \n",
    "        if(i+j>300 and i>j):\n",
    "            white[i,j]=250\n",
    "        if(i+j<300 and i<j):\n",
    "            white[i,j]=100\n",
    "        \n",
    "\n",
    "\n",
    "cv2.imshow('triangular_diagonals', white)\n",
    "cv2.waitKey(0)\n",
    "cv2.destroyAllWindows()\n"
   ]
  },
  {
   "cell_type": "code",
   "execution_count": 112,
   "metadata": {},
   "outputs": [],
   "source": [
    "import cv2\n",
    "import numpy as np\n",
    "\n",
    "white = np.zeros((300, 300,3), dtype=np.uint8)\n",
    "\n",
    "white[:100,:,2]=255\n",
    "white[:100,:,1]=100\n",
    "white[100:200,:,:]=255\n",
    "white[200:300,:,1]=200\n",
    "cv2.circle(white,(150,150),40,(150,0,0),3)\n",
    "\n",
    "\n",
    "\n",
    "cv2.imshow('tri', white)\n",
    "cv2.waitKey(0)\n",
    "cv2.destroyAllWindows()\n"
   ]
  },
  {
   "cell_type": "code",
   "execution_count": 131,
   "metadata": {},
   "outputs": [
    {
     "name": "stdout",
     "output_type": "stream",
     "text": [
      "(1350, 1080, 3)\n"
     ]
    }
   ],
   "source": [
    "import cv2\n",
    "import numpy as np\n",
    "\n",
    "img=cv2.imread(\"ambedkar.png\")\n",
    "print(img.shape)\n",
    "img[:675,540:,[0,1]]=0\n",
    "img[675:,:540,[1,2]]=0\n",
    "img[:675,:540,[0,2]]=0\n",
    "cv2.resize(img,(1080,720))\n",
    "\n",
    "cv2.imshow(\"img\",img)\n",
    "cv2.waitKey(0)\n",
    "cv2.destroyAllWindows()\n"
   ]
  }
 ],
 "metadata": {
  "kernelspec": {
   "display_name": "CIM",
   "language": "python",
   "name": "python3"
  },
  "language_info": {
   "codemirror_mode": {
    "name": "ipython",
    "version": 3
   },
   "file_extension": ".py",
   "mimetype": "text/x-python",
   "name": "python",
   "nbconvert_exporter": "python",
   "pygments_lexer": "ipython3",
   "version": "3.11.5"
  },
  "orig_nbformat": 4
 },
 "nbformat": 4,
 "nbformat_minor": 2
}
